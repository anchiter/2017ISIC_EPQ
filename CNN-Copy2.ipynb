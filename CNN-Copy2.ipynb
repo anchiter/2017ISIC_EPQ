{
 "cells": [
  {
   "cell_type": "code",
   "execution_count": 22,
   "id": "008dcbc4",
   "metadata": {},
   "outputs": [],
   "source": [
    "import os \n",
    "os.environ['CUDA_VISIBLE_DEVICES']='5'\n",
    "import timm\n",
    "import copy\n",
    "import torch\n",
    "import numpy\n",
    "import torchvision\n",
    "from tqdm import tqdm\n",
    "import matplotlib.pyplot as plt\n",
    "from sklearn.metrics import confusion_matrix, roc_auc_score, ConfusionMatrixDisplay"
   ]
  },
  {
   "cell_type": "code",
   "execution_count": 2,
   "id": "816f7b43",
   "metadata": {},
   "outputs": [],
   "source": [
    "device = torch.device(\"cuda\") if torch.cuda.is_available() else torch.device(\"cpu\")"
   ]
  },
  {
   "cell_type": "code",
   "execution_count": 3,
   "id": "56b19687",
   "metadata": {},
   "outputs": [
    {
     "data": {
      "text/plain": [
       "device(type='cuda')"
      ]
     },
     "execution_count": 3,
     "metadata": {},
     "output_type": "execute_result"
    }
   ],
   "source": [
    "device"
   ]
  },
  {
   "cell_type": "code",
   "execution_count": 4,
   "id": "d3973a6d",
   "metadata": {},
   "outputs": [],
   "source": [
    "def create_convnext():\n",
    "    model = timm.create_model('convnext_large_in22k', pretrained=True)\n",
    "    model.head.fc = torch.nn.Linear(in_features=model.head.fc.in_features, out_features=3)\n",
    "    return model\n",
    "def create_swin():\n",
    "    model = timm.create_model('swin_base_patch4_window7_224_in22k', pretrained = True)\n",
    "    model.head = torch.nn.Linear(in_features=model.head.in_features, out_features=3)\n",
    "    return model"
   ]
  },
  {
   "cell_type": "code",
   "execution_count": 5,
   "id": "743e2b40",
   "metadata": {},
   "outputs": [],
   "source": [
    "train_data = torchvision.datasets.ImageFolder('data/train')\n",
    "valid_data = torchvision.datasets.ImageFolder('data/valid')\n",
    "test_data = torchvision.datasets.ImageFolder('data/test')\n",
    "train_loader = torch.utils.data.DataLoader(train_data, batch_size=80, shuffle=True, num_workers=32)\n",
    "valid_loader = torch.utils.data.DataLoader(valid_data, batch_size=16, shuffle=False, num_workers=32)\n",
    "test_loader = torch.utils.data.DataLoader(test_data, batch_size=16, shuffle=False, num_workers=32)\n",
    "train_transform = torchvision.transforms.Compose([torchvision.transforms.Resize((224,224)),\n",
    "                                                torchvision.transforms.RandomHorizontalFlip(p=0.5),\n",
    "                                                torchvision.transforms.RandomRotation(degrees=(-45, 45)),\n",
    "                                                torchvision.transforms.ToTensor(),\n",
    "                                                torchvision.transforms.Normalize(mean=(0.693, 0.565, 0.52),\n",
    "                                                            std=(0.101, 0.121, 0.135))])\n",
    "normal_transform = torchvision.transforms.Compose([torchvision.transforms.Resize((224,224)),\n",
    "                                                torchvision.transforms.ToTensor(),\n",
    "                                                torchvision.transforms.Normalize(mean=(0.693, 0.565, 0.52),\n",
    "                                                            std=(0.101, 0.121, 0.135))])\n",
    "\n",
    "train_loader.dataset.transform = train_transform\n",
    "valid_loader.dataset.transform = normal_transform\n",
    "test_loader.dataset.transform = normal_transform"
   ]
  },
  {
   "cell_type": "code",
   "execution_count": 6,
   "id": "043c1bf1",
   "metadata": {},
   "outputs": [],
   "source": [
    "def mixup(x, label):    \n",
    "    mixupfactor, bs = float(torch.rand(1)), x.size()[0]\n",
    "    index = torch.randperm(bs).to(device)\n",
    "    mixing = mixupfactor * x + (1 - mixupfactor) * x[index, :]\n",
    "    return mixing, label, label[index], mixupfactor\n",
    "\n",
    "def mixuplossfunc(criterion, out, label1, label2, mixupfactor):\n",
    "    return mixupfactor * criterion(out, label1) + (1 - mixupfactor) * criterion(out, label2)"
   ]
  },
  {
   "cell_type": "code",
   "execution_count": 7,
   "id": "dc6fd9e8",
   "metadata": {
    "scrolled": true
   },
   "outputs": [],
   "source": [
    "def train(model_name, model, criterion, optimizer, epochs, mixup_=False, scheduler=None):\n",
    "    model.to(device)\n",
    "    validlossmin = numpy.inf\n",
    "    for epoch in range(1, epochs+1):  \n",
    "        trainloss,validloss = 0., 0.\n",
    "        model.train()                                          \n",
    "        for batchidx, (data, target) in enumerate(tqdm(train_loader)):\n",
    "            data, target = data.to(device), target.to(device)\n",
    "            optimizer.zero_grad()\n",
    "            if mixup_:\n",
    "                data, label1, label2, mixupfactor = mixup(data, target)\n",
    "                data, label1, label2 = map(torch.autograd.Variable, (data, label1, label2))\n",
    "                output = model(data)\n",
    "                loss = mixuplossfunc(criterion, output, label1, label2, mixupfactor)\n",
    "            else:\n",
    "                output = model(data)\n",
    "                loss = criterion(output, target)\n",
    "            loss.backward()\n",
    "            optimizer.step()\n",
    "            if scheduler:\n",
    "                scheduler.step()\n",
    "            trainloss += ((1 / (batchidx + 1)) * (loss.data.item() - trainloss))  \n",
    "\n",
    "        model.eval()\n",
    "        with torch.no_grad():\n",
    "            dataset_size, running_corrects = 0, 0\n",
    "            for batchidx, (data, target) in enumerate(valid_loader):\n",
    "                data, target = data.to(device), target.to(device)\n",
    "                output = model(data)\n",
    "                loss = criterion(output, target)\n",
    "                validloss += ((1 / (batchidx + 1)) * (loss.data.item() - validloss))\n",
    "                _, preds = torch.max(output, 1)\n",
    "                running_corrects += torch.sum(preds == target.data)\n",
    "                dataset_size += len(data)\n",
    "            accuracy = torch.true_divide(running_corrects, dataset_size)\n",
    "            print(f'Epoch {epoch} \\nTrain loss {trainloss:.4f} \\nValid loss {validloss:.4f} \\nAccuracy {accuracy:.3f}')\n",
    "            if validloss < validlossmin:\n",
    "                validlossmin = validloss\n",
    "                print('Saving model')\n",
    "                torch.save(model.state_dict(), model_name+'.pt')\n",
    "\n",
    "    model.load_state_dict(torch.load(model_name+'.pt'))\n",
    "    return model\n",
    "\n"
   ]
  },
  {
   "cell_type": "code",
   "execution_count": 8,
   "id": "000fc57d",
   "metadata": {},
   "outputs": [],
   "source": [
    "def test(model, return_metric=False):\n",
    "    model = model.to(device)\n",
    "    model.eval()\n",
    "    testloss = 0.0\n",
    "    \n",
    "    for batchidx, (data, target) in enumerate(tqdm(test_loader)):\n",
    "        data, target = data.to(device), target.to(device)\n",
    "        output = model(data)\n",
    "        loss = criterion(output, target)\n",
    "        testloss += ((1 / (batchidx + 1)) * (loss.data.item() - testloss))\n",
    "        pred = output.data\n",
    "        if batchidx:\n",
    "            preds = torch.cat((preds,pred))\n",
    "            targs = torch.cat((targs,target.data.view(pred.shape[:-1])))\n",
    "        else:\n",
    "            preds=pred\n",
    "            targs=target.data.view(pred.shape[:-1])\n",
    "    correct = numpy.sum(numpy.squeeze(preds.argmax(dim=-1).eq(targs)).cpu().numpy())\n",
    "    total = len(targs)\n",
    "\n",
    "    print(f'Test Loss: {testloss:.4f}')\n",
    "    print(f'Test Accuracy: \\n{correct/total:.3f} \\n{correct}/{total}' )\n",
    "    if return_metric:\n",
    "        return preds, targs"
   ]
  },
  {
   "cell_type": "code",
   "execution_count": 10,
   "id": "88fd878b",
   "metadata": {},
   "outputs": [
    {
     "name": "stderr",
     "output_type": "stream",
     "text": [
      "100%|███████████████████████████████████████████████████████████████████████████████████████████████████████████████████████████████████████████████████████████████████████| 25/25 [00:27<00:00,  1.11s/it]\n"
     ]
    },
    {
     "name": "stdout",
     "output_type": "stream",
     "text": [
      "Epoch 1 \n",
      "Train loss 1.6699 \n",
      "Valid loss 1.0800 \n",
      "Accuracy 0.520\n",
      "Saving model\n"
     ]
    }
   ],
   "source": [
    "#Training exmple\n",
    "epochs=1\n",
    "swin = create_swin()\n",
    "criterion = torch.nn.CrossEntropyLoss(label_smoothing=0.1)\n",
    "optimizer_swin = torch.optim.Adam(swin.parameters(), lr=1e-4, betas=(0.98, 0.999))\n",
    "scheduler_swin = torch.optim.lr_scheduler.OneCycleLR(optimizer_swin, max_lr=1e-2, \n",
    "                                                     steps_per_epoch=len(train_loader), epochs=epochs)\n",
    "\n",
    "skinCNN = train(\"test_model\", swin, criterion, optimizer_swin, \n",
    "                epochs=epochs, \n",
    "                mixup_=True, scheduler=scheduler_swin)"
   ]
  },
  {
   "cell_type": "code",
   "execution_count": 11,
   "id": "327e8b2f",
   "metadata": {},
   "outputs": [],
   "source": [
    "class Ensemble(torch.nn.Module):\n",
    "\n",
    "    def __init__(self, models):\n",
    "        super(Ensemble, self).__init__()\n",
    "        self.models = models\n",
    "       \n",
    "        self.fcs = torch.nn.Sequential(\n",
    "            torch.nn.Linear((3*len(self.models)), 64),torch.nn.GELU(),\n",
    "            torch.nn.Linear(64, 3))\n",
    "        for model in self.models:\n",
    "            model.eval()\n",
    "            for param in model.parameters(): param.requires_grad_(False)\n",
    "\n",
    "    def forward(self, x):\n",
    "        for idx, model in enumerate(self.models):\n",
    "            model = model.to(device)\n",
    "            mdlout = model(x)\n",
    "            out = torch.cat((out, mdlout), dim=1) if idx else mdlout\n",
    "        x = self.fcs(out)\n",
    "\n",
    "        return x"
   ]
  },
  {
   "cell_type": "code",
   "execution_count": 15,
   "id": "efdf718a",
   "metadata": {},
   "outputs": [],
   "source": [
    "convnext = create_convnext()\n",
    "swin = create_swin()\n",
    "mdl1 = copy.deepcopy(convnext)\n",
    "mdl2 = copy.deepcopy(convnext)\n",
    "mdl3 = copy.deepcopy(convnext)\n",
    "mdl4 = copy.deepcopy(convnext)\n",
    "mdl5 = copy.deepcopy(swin)\n",
    "mdl1.load_state_dict(torch.load('model1.pt'))\n",
    "mdl2.load_state_dict(torch.load('model2.pt'))\n",
    "mdl3.load_state_dict(torch.load('model3.pt'))\n",
    "mdl4.load_state_dict(torch.load('model4.pt'))\n",
    "mdl5.load_state_dict(torch.load('swin.pt'))\n",
    "models = [mdl1,\n",
    "          mdl2,\n",
    "          mdl3,\n",
    "          mdl4,\n",
    "          mdl5]\n",
    "\n",
    "ensembled = Ensemble(models)\n",
    "optimizer_ensemble = torch.optim.Adam(ensembled.parameters(), lr=1e-4, betas=(0.98, 0.999))\n",
    "criterion = torch.nn.CrossEntropyLoss(label_smoothing=0.1)\n",
    "\n",
    "#ensembled = train(\"ensemble\", ensembled, criterion, optimizer_ensemble, epochs=10)"
   ]
  },
  {
   "cell_type": "code",
   "execution_count": 20,
   "id": "33d891e3",
   "metadata": {},
   "outputs": [
    {
     "data": {
      "text/plain": [
       "<All keys matched successfully>"
      ]
     },
     "execution_count": 20,
     "metadata": {},
     "output_type": "execute_result"
    }
   ],
   "source": [
    "ensembled.load_state_dict(torch.load('ensemble82.pt'))\n"
   ]
  },
  {
   "cell_type": "code",
   "execution_count": 17,
   "id": "e1b979ff",
   "metadata": {},
   "outputs": [
    {
     "name": "stderr",
     "output_type": "stream",
     "text": [
      "100%|███████████████████████████████████████████████████████████████████████████████████████████████████████████████████████████████████████████████████████████████████████| 38/38 [00:24<00:00,  1.55it/s]"
     ]
    },
    {
     "name": "stdout",
     "output_type": "stream",
     "text": [
      "Test Loss: 0.6159\n",
      "Test Accuracy: \n",
      "0.822 \n",
      "493/600\n"
     ]
    },
    {
     "name": "stderr",
     "output_type": "stream",
     "text": [
      "\n"
     ]
    }
   ],
   "source": [
    "preds, targs=test(ensembled, True)"
   ]
  },
  {
   "cell_type": "code",
   "execution_count": 18,
   "id": "6334aed8",
   "metadata": {},
   "outputs": [],
   "source": [
    "cm = confusion_matrix(targs.cpu().numpy(), preds.max(1, keepdim=True)[1].cpu().numpy())\n",
    "cm_decimal = confusion_matrix(targs.cpu().numpy(), preds.max(1, keepdim=True)[1].cpu().numpy())/targs.numel()\n"
   ]
  },
  {
   "cell_type": "code",
   "execution_count": 23,
   "id": "5acdd24b",
   "metadata": {},
   "outputs": [
    {
     "data": {
      "image/png": "[encoded data removed]",
      "text/plain": [
       "<Figure size 432x288 with 2 Axes>"
      ]
     },
     "metadata": {
      "needs_background": "light"
     },
     "output_type": "display_data"
    },
    {
     "data": {
      "image/png": "[encoded data removed]",
      "text/plain": [
       "<Figure size 432x288 with 2 Axes>"
      ]
     },
     "metadata": {
      "needs_background": "light"
     },
     "output_type": "display_data"
    }
   ],
   "source": [
    "disp1 = ConfusionMatrixDisplay(cm, display_labels=['melanoma','nevus','seborreic'])\n",
    "disp2 = ConfusionMatrixDisplay(cm_decimal, display_labels=['melanoma','nevus','seborreic'])\n",
    "disp1.plot()\n",
    "disp2.plot()\n",
    "plt.show()"
   ]
  },
  {
   "cell_type": "code",
   "execution_count": 25,
   "id": "13d1b6d4",
   "metadata": {},
   "outputs": [
    {
     "data": {
      "text/plain": [
       "0.9282849818403254"
      ]
     },
     "execution_count": 25,
     "metadata": {},
     "output_type": "execute_result"
    }
   ],
   "source": [
    "roc_auc_score(targs.cpu().numpy(), preds.softmax(-1).cpu().numpy(), \n",
    "                              average='weighted', multi_class='ovo')\n"
   ]
  }
 ],
 "metadata": {
  "kernelspec": {
   "display_name": "Python 3 (ipykernel)",
   "language": "python",
   "name": "python3"
  },
  "language_info": {
   "codemirror_mode": {
    "name": "ipython",
    "version": 3
   },
   "file_extension": ".py",
   "mimetype": "text/x-python",
   "name": "python",
   "nbconvert_exporter": "python",
   "pygments_lexer": "ipython3",
   "version": "3.9.7"
  }
 },
 "nbformat": 4,
 "nbformat_minor": 5
}
